{
  "cells": [
    {
      "cell_type": "code",
      "execution_count": null,
      "metadata": {
        "id": "m1KU0ffRms6s"
      },
      "outputs": [],
      "source": [
        "import torch\n",
        "import matplotlib.pyplot as plt\n",
        "import torch.nn as nn\n",
        "import numpy as np\n",
        "from torch.utils.data import DataLoader\n",
        "import torchvision\n",
        "from torchvision import transforms, datasets"
      ]
    },
    {
      "cell_type": "code",
      "execution_count": null,
      "metadata": {
        "colab": {
          "base_uri": "https://localhost:8080/"
        },
        "id": "moX92mZ4nRF6",
        "outputId": "93184d78-4e2f-40ea-faa5-b9a7e75cbd65"
      },
      "outputs": [
        {
          "output_type": "execute_result",
          "data": {
            "text/plain": [
              "device(type='cuda')"
            ]
          },
          "metadata": {},
          "execution_count": 2
        }
      ],
      "source": [
        "device = torch.device(\"cuda\" if torch.cuda.is_available() else \"cpu\")\n",
        "device"
      ]
    },
    {
      "cell_type": "code",
      "execution_count": null,
      "metadata": {
        "id": "J6Lx5DcToIxP"
      },
      "outputs": [],
      "source": [
        "data_transform = transforms.Compose([\n",
        "    transforms.Resize(size=(224, 224)),\n",
        "    transforms.RandomHorizontalFlip(p=0.5),\n",
        "    transforms.ToTensor()\n",
        "])"
      ]
    },
    {
      "cell_type": "code",
      "execution_count": null,
      "metadata": {
        "colab": {
          "base_uri": "https://localhost:8080/"
        },
        "id": "wzKh2N5mvYUR",
        "outputId": "9a6224d9-56ae-4598-e4c4-1bfc8541e11b"
      },
      "outputs": [
        {
          "output_type": "stream",
          "name": "stderr",
          "text": [
            "100%|██████████| 345M/345M [00:23<00:00, 14.8MB/s]\n",
            "100%|██████████| 502/502 [00:00<00:00, 606kB/s]\n",
            "100%|██████████| 15.0k/15.0k [00:00<00:00, 21.3MB/s]\n"
          ]
        }
      ],
      "source": [
        "train_data = datasets.Flowers102(root=\"data\", split='train', download=True, transform=data_transform)\n",
        "val_data = datasets.Flowers102(root=\"data\", split='val', download=True, transform=data_transform)\n",
        "test_data = datasets.Flowers102(root=\"data\", split='test', download=True, transform=data_transform)"
      ]
    },
    {
      "cell_type": "code",
      "execution_count": null,
      "metadata": {
        "colab": {
          "base_uri": "https://localhost:8080/"
        },
        "id": "Z0MA51xT0IeE",
        "outputId": "91634332-0844-4387-dc14-a9d6108e5caa"
      },
      "outputs": [
        {
          "output_type": "execute_result",
          "data": {
            "text/plain": [
              "(1020, 6149, 1020)"
            ]
          },
          "metadata": {},
          "execution_count": 5
        }
      ],
      "source": [
        "len(train_data), len(test_data),len(val_data)"
      ]
    },
    {
      "cell_type": "code",
      "execution_count": null,
      "metadata": {
        "id": "C9Bxof5IwZzX"
      },
      "outputs": [],
      "source": [
        "train_dataset = DataLoader(train_data, batch_size=32, shuffle=True)\n",
        "val_dataset = DataLoader(val_data, batch_size=32, shuffle=False)\n",
        "test_dataset = DataLoader(test_data, batch_size=32, shuffle=False)"
      ]
    },
    {
      "cell_type": "code",
      "execution_count": null,
      "metadata": {
        "colab": {
          "base_uri": "https://localhost:8080/"
        },
        "id": "DxLBmo8MxGrE",
        "outputId": "d6e0197e-e556-4c58-aabb-27580a1a110b"
      },
      "outputs": [
        {
          "output_type": "stream",
          "name": "stdout",
          "text": [
            "torch.Size([32, 3, 224, 224]) torch.Size([32])\n"
          ]
        }
      ],
      "source": [
        "for imgs, labels in train_dataset:\n",
        "    print(imgs.shape, labels.shape)\n",
        "    break"
      ]
    },
    {
      "cell_type": "code",
      "execution_count": null,
      "metadata": {
        "colab": {
          "base_uri": "https://localhost:8080/"
        },
        "id": "kCONuMwl0ElF",
        "outputId": "b28a62a5-3183-42e6-e34b-9b4a21e85d6b"
      },
      "outputs": [
        {
          "output_type": "execute_result",
          "data": {
            "text/plain": [
              "(tensor([[[0.0392, 0.0431, 0.0627,  ..., 0.5176, 0.5647, 0.5608],\n",
              "          [0.0510, 0.0510, 0.0706,  ..., 0.5255, 0.5647, 0.5647],\n",
              "          [0.0667, 0.0627, 0.0667,  ..., 0.5373, 0.5647, 0.5647],\n",
              "          ...,\n",
              "          [0.1216, 0.1216, 0.1098,  ..., 0.4745, 0.4745, 0.4667],\n",
              "          [0.0980, 0.1137, 0.1176,  ..., 0.4706, 0.4706, 0.4667],\n",
              "          [0.0941, 0.0980, 0.1176,  ..., 0.4745, 0.4667, 0.4627]],\n",
              " \n",
              "         [[0.0824, 0.0902, 0.1176,  ..., 0.3765, 0.4078, 0.3882],\n",
              "          [0.0863, 0.0941, 0.1216,  ..., 0.3804, 0.4039, 0.3882],\n",
              "          [0.0902, 0.0941, 0.1098,  ..., 0.3882, 0.3961, 0.3882],\n",
              "          ...,\n",
              "          [0.2196, 0.2157, 0.2000,  ..., 0.3961, 0.3961, 0.3882],\n",
              "          [0.2039, 0.2196, 0.2157,  ..., 0.4000, 0.3882, 0.3725],\n",
              "          [0.2000, 0.2039, 0.2196,  ..., 0.4078, 0.3843, 0.3647]],\n",
              " \n",
              "         [[0.0314, 0.0275, 0.0353,  ..., 0.5412, 0.6157, 0.5882],\n",
              "          [0.0392, 0.0314, 0.0392,  ..., 0.5490, 0.6078, 0.5882],\n",
              "          [0.0431, 0.0353, 0.0353,  ..., 0.5569, 0.6039, 0.5843],\n",
              "          ...,\n",
              "          [0.0980, 0.0784, 0.0588,  ..., 0.5412, 0.5412, 0.5333],\n",
              "          [0.0745, 0.0863, 0.0863,  ..., 0.5412, 0.5412, 0.5255],\n",
              "          [0.0627, 0.0745, 0.0980,  ..., 0.5490, 0.5373, 0.5216]]]),\n",
              " 0)"
            ]
          },
          "metadata": {},
          "execution_count": 8
        }
      ],
      "source": [
        "img, label = train_data[0]\n",
        "img, label"
      ]
    },
    {
      "cell_type": "code",
      "execution_count": null,
      "metadata": {
        "id": "WdpLM_0VxdZt"
      },
      "outputs": [],
      "source": [
        "class flower102(nn.Module):\n",
        "  def __init__(self, input_shape: int, hidden_units: int, output_shape: int):\n",
        "    super().__init__()\n",
        "    self.conv_block_1 = nn.Sequential(\n",
        "        nn.Conv2d(in_channels=input_shape,\n",
        "                 out_channels=hidden_units,\n",
        "                 kernel_size=3,\n",
        "                  padding=1),\n",
        "        nn.ReLU(),\n",
        "        nn.MaxPool2d(kernel_size=2,\n",
        "                     stride=2)\n",
        "    )\n",
        "    self.conv_block_2 = nn.Sequential(\n",
        "        nn.Conv2d(in_channels=hidden_units,\n",
        "                 out_channels=hidden_units,\n",
        "                 kernel_size=3,\n",
        "                  padding=1),\n",
        "        nn.ReLU(),\n",
        "        nn.MaxPool2d(kernel_size=2,\n",
        "                     stride=2)\n",
        "    )\n",
        "    self.conv_block_3 = nn.Sequential(\n",
        "        nn.Conv2d(in_channels=hidden_units,\n",
        "                  out_channels=hidden_units,\n",
        "                  kernel_size=3,\n",
        "                  padding=1),\n",
        "        nn.ReLU(),\n",
        "        nn.MaxPool2d(kernel_size=2,\n",
        "                     stride=2)\n",
        "    )\n",
        "    # self.conv_block_4 = nn.Sequential(\n",
        "    #     nn.Conv2d(in_channels=hidden_units,\n",
        "    #               out_channels=hidden_units,\n",
        "    #               kernel_size=3,\n",
        "    #               padding=1),\n",
        "    #     nn.ReLU(),\n",
        "    #     nn.MaxPool2d(kernel_size=2,\n",
        "    #                  stride=2)\n",
        "    # )\n",
        "    self.classifier = nn.Sequential(\n",
        "        nn.Flatten(),\n",
        "        nn.Linear(in_features=hidden_units*28*28,\n",
        "                  out_features = hidden_units),\n",
        "        nn.ReLU(),\n",
        "        nn.Linear(in_features=hidden_units,\n",
        "                  out_features = output_shape)\n",
        "\n",
        "    )\n",
        "\n",
        "  def forward(self, x:torch.Tensor):\n",
        "    x = self.conv_block_1(x)\n",
        "    # print(x.shape)\n",
        "    x = self.conv_block_2(x)\n",
        "    # print(x.shape)\n",
        "    x = self.conv_block_3(x)\n",
        "    # print(x.shape)\n",
        "    # x = self.conv_block_4(x)\n",
        "    # print(x.shape)\n",
        "    x = self. classifier(x)\n",
        "    # print(x.shape)\n",
        "\n",
        "    return x\n",
        "\n"
      ]
    },
    {
      "cell_type": "code",
      "execution_count": null,
      "metadata": {
        "colab": {
          "base_uri": "https://localhost:8080/"
        },
        "id": "c6dnFonB5ZhI",
        "outputId": "d10f49ec-d605-438f-b091-d5870c728f5e"
      },
      "outputs": [
        {
          "output_type": "execute_result",
          "data": {
            "text/plain": [
              "flower102(\n",
              "  (conv_block_1): Sequential(\n",
              "    (0): Conv2d(3, 16, kernel_size=(3, 3), stride=(1, 1), padding=(1, 1))\n",
              "    (1): ReLU()\n",
              "    (2): MaxPool2d(kernel_size=2, stride=2, padding=0, dilation=1, ceil_mode=False)\n",
              "  )\n",
              "  (conv_block_2): Sequential(\n",
              "    (0): Conv2d(16, 16, kernel_size=(3, 3), stride=(1, 1), padding=(1, 1))\n",
              "    (1): ReLU()\n",
              "    (2): MaxPool2d(kernel_size=2, stride=2, padding=0, dilation=1, ceil_mode=False)\n",
              "  )\n",
              "  (conv_block_3): Sequential(\n",
              "    (0): Conv2d(16, 16, kernel_size=(3, 3), stride=(1, 1), padding=(1, 1))\n",
              "    (1): ReLU()\n",
              "    (2): MaxPool2d(kernel_size=2, stride=2, padding=0, dilation=1, ceil_mode=False)\n",
              "  )\n",
              "  (classifier): Sequential(\n",
              "    (0): Flatten(start_dim=1, end_dim=-1)\n",
              "    (1): Linear(in_features=12544, out_features=16, bias=True)\n",
              "    (2): ReLU()\n",
              "    (3): Linear(in_features=16, out_features=102, bias=True)\n",
              "  )\n",
              ")"
            ]
          },
          "metadata": {},
          "execution_count": 10
        }
      ],
      "source": [
        "model_0 = flower102(input_shape = 3,hidden_units = 16,output_shape = 102)\n",
        "model_0"
      ]
    },
    {
      "cell_type": "code",
      "execution_count": null,
      "metadata": {
        "colab": {
          "base_uri": "https://localhost:8080/"
        },
        "id": "jXnD4QXcLmre",
        "outputId": "9b6d93ff-fc16-4f15-a72d-cfebfc5f4a7e"
      },
      "outputs": [
        {
          "output_type": "stream",
          "name": "stdout",
          "text": [
            "Collecting torchinfo\n",
            "  Downloading torchinfo-1.8.0-py3-none-any.whl.metadata (21 kB)\n",
            "Downloading torchinfo-1.8.0-py3-none-any.whl (23 kB)\n",
            "Installing collected packages: torchinfo\n",
            "Successfully installed torchinfo-1.8.0\n"
          ]
        },
        {
          "output_type": "execute_result",
          "data": {
            "text/plain": [
              "==========================================================================================\n",
              "Layer (type:depth-idx)                   Output Shape              Param #\n",
              "==========================================================================================\n",
              "flower102                                [1, 102]                  --\n",
              "├─Sequential: 1-1                        [1, 16, 112, 112]         --\n",
              "│    └─Conv2d: 2-1                       [1, 16, 224, 224]         448\n",
              "│    └─ReLU: 2-2                         [1, 16, 224, 224]         --\n",
              "│    └─MaxPool2d: 2-3                    [1, 16, 112, 112]         --\n",
              "├─Sequential: 1-2                        [1, 16, 56, 56]           --\n",
              "│    └─Conv2d: 2-4                       [1, 16, 112, 112]         2,320\n",
              "│    └─ReLU: 2-5                         [1, 16, 112, 112]         --\n",
              "│    └─MaxPool2d: 2-6                    [1, 16, 56, 56]           --\n",
              "├─Sequential: 1-3                        [1, 16, 28, 28]           --\n",
              "│    └─Conv2d: 2-7                       [1, 16, 56, 56]           2,320\n",
              "│    └─ReLU: 2-8                         [1, 16, 56, 56]           --\n",
              "│    └─MaxPool2d: 2-9                    [1, 16, 28, 28]           --\n",
              "├─Sequential: 1-4                        [1, 102]                  --\n",
              "│    └─Flatten: 2-10                     [1, 12544]                --\n",
              "│    └─Linear: 2-11                      [1, 16]                   200,720\n",
              "│    └─ReLU: 2-12                        [1, 16]                   --\n",
              "│    └─Linear: 2-13                      [1, 102]                  1,734\n",
              "==========================================================================================\n",
              "Total params: 207,542\n",
              "Trainable params: 207,542\n",
              "Non-trainable params: 0\n",
              "Total mult-adds (Units.MEGABYTES): 59.06\n",
              "==========================================================================================\n",
              "Input size (MB): 0.60\n",
              "Forward/backward pass size (MB): 8.43\n",
              "Params size (MB): 0.83\n",
              "Estimated Total Size (MB): 9.86\n",
              "=========================================================================================="
            ]
          },
          "metadata": {},
          "execution_count": 11
        }
      ],
      "source": [
        "!pip install torchinfo\n",
        "import torchinfo\n",
        "\n",
        "from torchinfo import summary\n",
        "summary(model_0, input_size=[1,3,224, 224])"
      ]
    },
    {
      "cell_type": "code",
      "execution_count": null,
      "metadata": {
        "colab": {
          "base_uri": "https://localhost:8080/"
        },
        "id": "jUv9A46lFeoc",
        "outputId": "bd9f6efa-8d27-45b2-9099-fdc7e3bae1de"
      },
      "outputs": [
        {
          "output_type": "stream",
          "name": "stdout",
          "text": [
            "tensor([[ 0.0057,  0.2240,  0.2163, -0.1995,  0.0672,  0.0609,  0.1430,  0.1169,\n",
            "          0.1278, -0.1905, -0.1763, -0.2230,  0.1285,  0.1467,  0.1653, -0.1589,\n",
            "          0.1645,  0.0859, -0.0548, -0.2143, -0.1695, -0.2223,  0.0741,  0.0509,\n",
            "          0.2409, -0.0463,  0.1622,  0.0540, -0.0407, -0.0562,  0.2119, -0.0856,\n",
            "         -0.0751,  0.0855, -0.2268,  0.1649,  0.1961,  0.0818,  0.1737,  0.0579,\n",
            "          0.1136,  0.1822,  0.2802, -0.2277,  0.1067,  0.0888, -0.1852,  0.2639,\n",
            "          0.1974,  0.0666, -0.0263, -0.1946, -0.1259, -0.1014, -0.1377, -0.0865,\n",
            "         -0.2427,  0.1269, -0.1333,  0.2525, -0.1670,  0.0531,  0.2032,  0.1939,\n",
            "          0.1836,  0.0315,  0.2475, -0.0165, -0.0817,  0.2100, -0.0801, -0.2386,\n",
            "          0.0721,  0.2221,  0.1916,  0.1398,  0.0489,  0.0162,  0.2322,  0.0557,\n",
            "          0.2029,  0.0471,  0.0854,  0.1733,  0.1599,  0.0545, -0.2155, -0.0504,\n",
            "          0.1176, -0.2431,  0.1735,  0.1785, -0.1401, -0.0008,  0.0695,  0.1511,\n",
            "         -0.1267, -0.1716,  0.1581,  0.1759, -0.0223,  0.1242]],\n",
            "       device='cuda:0')\n",
            "tensor([[0.0094, 0.0117, 0.0116, 0.0077, 0.0100, 0.0099, 0.0108, 0.0105, 0.0106,\n",
            "         0.0077, 0.0078, 0.0075, 0.0106, 0.0108, 0.0110, 0.0080, 0.0110, 0.0102,\n",
            "         0.0089, 0.0075, 0.0079, 0.0075, 0.0101, 0.0098, 0.0119, 0.0089, 0.0110,\n",
            "         0.0099, 0.0090, 0.0088, 0.0116, 0.0086, 0.0087, 0.0102, 0.0075, 0.0110,\n",
            "         0.0114, 0.0101, 0.0111, 0.0099, 0.0105, 0.0112, 0.0124, 0.0074, 0.0104,\n",
            "         0.0102, 0.0078, 0.0122, 0.0114, 0.0100, 0.0091, 0.0077, 0.0082, 0.0084,\n",
            "         0.0081, 0.0086, 0.0073, 0.0106, 0.0082, 0.0120, 0.0079, 0.0099, 0.0115,\n",
            "         0.0114, 0.0112, 0.0096, 0.0120, 0.0092, 0.0086, 0.0115, 0.0086, 0.0074,\n",
            "         0.0101, 0.0117, 0.0113, 0.0108, 0.0098, 0.0095, 0.0118, 0.0099, 0.0115,\n",
            "         0.0098, 0.0102, 0.0111, 0.0110, 0.0099, 0.0075, 0.0089, 0.0105, 0.0073,\n",
            "         0.0111, 0.0112, 0.0081, 0.0093, 0.0100, 0.0109, 0.0082, 0.0079, 0.0110,\n",
            "         0.0111, 0.0091, 0.0106]], device='cuda:0')\n",
            "42\n"
          ]
        }
      ],
      "source": [
        "dummy_img = torch.randn(1, 3, 224, 224).float().to(device)\n",
        "model_0.eval()\n",
        "with torch.inference_mode():\n",
        "  y_logits = model_0(dummy_img)\n",
        "  print(y_logits)\n",
        "  y_prob = torch.softmax(y_logits, dim=1)\n",
        "  print(y_prob)\n",
        "  y_pred = torch.argmax(y_prob, dim=1).item()\n",
        "  print(y_pred)"
      ]
    },
    {
      "cell_type": "code",
      "execution_count": null,
      "metadata": {
        "id": "ogfVzY_xFxw8"
      },
      "outputs": [],
      "source": [
        "loss_fn = nn.CrossEntropyLoss()\n",
        "optimizer = torch.optim.Adam(params=model_0.parameters(), lr=0.001)"
      ]
    },
    {
      "cell_type": "code",
      "execution_count": null,
      "metadata": {
        "colab": {
          "base_uri": "https://localhost:8080/"
        },
        "id": "JU0du6yJhXJJ",
        "outputId": "95ba6582-d3a6-4b55-a2cc-deef47864723"
      },
      "outputs": [
        {
          "output_type": "stream",
          "name": "stdout",
          "text": [
            "Collecting torchmetrics\n",
            "  Downloading torchmetrics-1.7.3-py3-none-any.whl.metadata (21 kB)\n",
            "Requirement already satisfied: numpy>1.20.0 in /usr/local/lib/python3.11/dist-packages (from torchmetrics) (2.0.2)\n",
            "Requirement already satisfied: packaging>17.1 in /usr/local/lib/python3.11/dist-packages (from torchmetrics) (24.2)\n",
            "Requirement already satisfied: torch>=2.0.0 in /usr/local/lib/python3.11/dist-packages (from torchmetrics) (2.6.0+cu124)\n",
            "Collecting lightning-utilities>=0.8.0 (from torchmetrics)\n",
            "  Downloading lightning_utilities-0.14.3-py3-none-any.whl.metadata (5.6 kB)\n",
            "Requirement already satisfied: setuptools in /usr/local/lib/python3.11/dist-packages (from lightning-utilities>=0.8.0->torchmetrics) (75.2.0)\n",
            "Requirement already satisfied: typing_extensions in /usr/local/lib/python3.11/dist-packages (from lightning-utilities>=0.8.0->torchmetrics) (4.14.0)\n",
            "Requirement already satisfied: filelock in /usr/local/lib/python3.11/dist-packages (from torch>=2.0.0->torchmetrics) (3.18.0)\n",
            "Requirement already satisfied: networkx in /usr/local/lib/python3.11/dist-packages (from torch>=2.0.0->torchmetrics) (3.5)\n",
            "Requirement already satisfied: jinja2 in /usr/local/lib/python3.11/dist-packages (from torch>=2.0.0->torchmetrics) (3.1.6)\n",
            "Requirement already satisfied: fsspec in /usr/local/lib/python3.11/dist-packages (from torch>=2.0.0->torchmetrics) (2025.3.2)\n",
            "Collecting nvidia-cuda-nvrtc-cu12==12.4.127 (from torch>=2.0.0->torchmetrics)\n",
            "  Downloading nvidia_cuda_nvrtc_cu12-12.4.127-py3-none-manylinux2014_x86_64.whl.metadata (1.5 kB)\n",
            "Collecting nvidia-cuda-runtime-cu12==12.4.127 (from torch>=2.0.0->torchmetrics)\n",
            "  Downloading nvidia_cuda_runtime_cu12-12.4.127-py3-none-manylinux2014_x86_64.whl.metadata (1.5 kB)\n",
            "Collecting nvidia-cuda-cupti-cu12==12.4.127 (from torch>=2.0.0->torchmetrics)\n",
            "  Downloading nvidia_cuda_cupti_cu12-12.4.127-py3-none-manylinux2014_x86_64.whl.metadata (1.6 kB)\n",
            "Collecting nvidia-cudnn-cu12==9.1.0.70 (from torch>=2.0.0->torchmetrics)\n",
            "  Downloading nvidia_cudnn_cu12-9.1.0.70-py3-none-manylinux2014_x86_64.whl.metadata (1.6 kB)\n",
            "Collecting nvidia-cublas-cu12==12.4.5.8 (from torch>=2.0.0->torchmetrics)\n",
            "  Downloading nvidia_cublas_cu12-12.4.5.8-py3-none-manylinux2014_x86_64.whl.metadata (1.5 kB)\n",
            "Collecting nvidia-cufft-cu12==11.2.1.3 (from torch>=2.0.0->torchmetrics)\n",
            "  Downloading nvidia_cufft_cu12-11.2.1.3-py3-none-manylinux2014_x86_64.whl.metadata (1.5 kB)\n",
            "Collecting nvidia-curand-cu12==10.3.5.147 (from torch>=2.0.0->torchmetrics)\n",
            "  Downloading nvidia_curand_cu12-10.3.5.147-py3-none-manylinux2014_x86_64.whl.metadata (1.5 kB)\n",
            "Collecting nvidia-cusolver-cu12==11.6.1.9 (from torch>=2.0.0->torchmetrics)\n",
            "  Downloading nvidia_cusolver_cu12-11.6.1.9-py3-none-manylinux2014_x86_64.whl.metadata (1.6 kB)\n",
            "Collecting nvidia-cusparse-cu12==12.3.1.170 (from torch>=2.0.0->torchmetrics)\n",
            "  Downloading nvidia_cusparse_cu12-12.3.1.170-py3-none-manylinux2014_x86_64.whl.metadata (1.6 kB)\n",
            "Requirement already satisfied: nvidia-cusparselt-cu12==0.6.2 in /usr/local/lib/python3.11/dist-packages (from torch>=2.0.0->torchmetrics) (0.6.2)\n",
            "Requirement already satisfied: nvidia-nccl-cu12==2.21.5 in /usr/local/lib/python3.11/dist-packages (from torch>=2.0.0->torchmetrics) (2.21.5)\n",
            "Requirement already satisfied: nvidia-nvtx-cu12==12.4.127 in /usr/local/lib/python3.11/dist-packages (from torch>=2.0.0->torchmetrics) (12.4.127)\n",
            "Collecting nvidia-nvjitlink-cu12==12.4.127 (from torch>=2.0.0->torchmetrics)\n",
            "  Downloading nvidia_nvjitlink_cu12-12.4.127-py3-none-manylinux2014_x86_64.whl.metadata (1.5 kB)\n",
            "Requirement already satisfied: triton==3.2.0 in /usr/local/lib/python3.11/dist-packages (from torch>=2.0.0->torchmetrics) (3.2.0)\n",
            "Requirement already satisfied: sympy==1.13.1 in /usr/local/lib/python3.11/dist-packages (from torch>=2.0.0->torchmetrics) (1.13.1)\n",
            "Requirement already satisfied: mpmath<1.4,>=1.1.0 in /usr/local/lib/python3.11/dist-packages (from sympy==1.13.1->torch>=2.0.0->torchmetrics) (1.3.0)\n",
            "Requirement already satisfied: MarkupSafe>=2.0 in /usr/local/lib/python3.11/dist-packages (from jinja2->torch>=2.0.0->torchmetrics) (3.0.2)\n",
            "Downloading torchmetrics-1.7.3-py3-none-any.whl (962 kB)\n",
            "\u001b[2K   \u001b[90m━━━━━━━━━━━━━━━━━━━━━━━━━━━━━━━━━━━━━━━━\u001b[0m \u001b[32m962.6/962.6 kB\u001b[0m \u001b[31m29.5 MB/s\u001b[0m eta \u001b[36m0:00:00\u001b[0m\n",
            "\u001b[?25hDownloading lightning_utilities-0.14.3-py3-none-any.whl (28 kB)\n",
            "Downloading nvidia_cublas_cu12-12.4.5.8-py3-none-manylinux2014_x86_64.whl (363.4 MB)\n",
            "\u001b[2K   \u001b[90m━━━━━━━━━━━━━━━━━━━━━━━━━━━━━━━━━━━━━━━━\u001b[0m \u001b[32m363.4/363.4 MB\u001b[0m \u001b[31m4.5 MB/s\u001b[0m eta \u001b[36m0:00:00\u001b[0m\n",
            "\u001b[?25hDownloading nvidia_cuda_cupti_cu12-12.4.127-py3-none-manylinux2014_x86_64.whl (13.8 MB)\n",
            "\u001b[2K   \u001b[90m━━━━━━━━━━━━━━━━━━━━━━━━━━━━━━━━━━━━━━━━\u001b[0m \u001b[32m13.8/13.8 MB\u001b[0m \u001b[31m70.6 MB/s\u001b[0m eta \u001b[36m0:00:00\u001b[0m\n",
            "\u001b[?25hDownloading nvidia_cuda_nvrtc_cu12-12.4.127-py3-none-manylinux2014_x86_64.whl (24.6 MB)\n",
            "\u001b[2K   \u001b[90m━━━━━━━━━━━━━━━━━━━━━━━━━━━━━━━━━━━━━━━━\u001b[0m \u001b[32m24.6/24.6 MB\u001b[0m \u001b[31m36.6 MB/s\u001b[0m eta \u001b[36m0:00:00\u001b[0m\n",
            "\u001b[?25hDownloading nvidia_cuda_runtime_cu12-12.4.127-py3-none-manylinux2014_x86_64.whl (883 kB)\n",
            "\u001b[2K   \u001b[90m━━━━━━━━━━━━━━━━━━━━━━━━━━━━━━━━━━━━━━━━\u001b[0m \u001b[32m883.7/883.7 kB\u001b[0m \u001b[31m50.7 MB/s\u001b[0m eta \u001b[36m0:00:00\u001b[0m\n",
            "\u001b[?25hDownloading nvidia_cudnn_cu12-9.1.0.70-py3-none-manylinux2014_x86_64.whl (664.8 MB)\n",
            "\u001b[2K   \u001b[90m━━━━━━━━━━━━━━━━━━━━━━━━━━━━━━━━━━━━━━━━\u001b[0m \u001b[32m664.8/664.8 MB\u001b[0m \u001b[31m2.0 MB/s\u001b[0m eta \u001b[36m0:00:00\u001b[0m\n",
            "\u001b[?25hDownloading nvidia_cufft_cu12-11.2.1.3-py3-none-manylinux2014_x86_64.whl (211.5 MB)\n",
            "\u001b[2K   \u001b[90m━━━━━━━━━━━━━━━━━━━━━━━━━━━━━━━━━━━━━━━━\u001b[0m \u001b[32m211.5/211.5 MB\u001b[0m \u001b[31m5.6 MB/s\u001b[0m eta \u001b[36m0:00:00\u001b[0m\n",
            "\u001b[?25hDownloading nvidia_curand_cu12-10.3.5.147-py3-none-manylinux2014_x86_64.whl (56.3 MB)\n",
            "\u001b[2K   \u001b[90m━━━━━━━━━━━━━━━━━━━━━━━━━━━━━━━━━━━━━━━━\u001b[0m \u001b[32m56.3/56.3 MB\u001b[0m \u001b[31m13.2 MB/s\u001b[0m eta \u001b[36m0:00:00\u001b[0m\n",
            "\u001b[?25hDownloading nvidia_cusolver_cu12-11.6.1.9-py3-none-manylinux2014_x86_64.whl (127.9 MB)\n",
            "\u001b[2K   \u001b[90m━━━━━━━━━━━━━━━━━━━━━━━━━━━━━━━━━━━━━━━━\u001b[0m \u001b[32m127.9/127.9 MB\u001b[0m \u001b[31m8.2 MB/s\u001b[0m eta \u001b[36m0:00:00\u001b[0m\n",
            "\u001b[?25hDownloading nvidia_cusparse_cu12-12.3.1.170-py3-none-manylinux2014_x86_64.whl (207.5 MB)\n",
            "\u001b[2K   \u001b[90m━━━━━━━━━━━━━━━━━━━━━━━━━━━━━━━━━━━━━━━━\u001b[0m \u001b[32m207.5/207.5 MB\u001b[0m \u001b[31m5.5 MB/s\u001b[0m eta \u001b[36m0:00:00\u001b[0m\n",
            "\u001b[?25hDownloading nvidia_nvjitlink_cu12-12.4.127-py3-none-manylinux2014_x86_64.whl (21.1 MB)\n",
            "\u001b[2K   \u001b[90m━━━━━━━━━━━━━━━━━━━━━━━━━━━━━━━━━━━━━━━━\u001b[0m \u001b[32m21.1/21.1 MB\u001b[0m \u001b[31m65.8 MB/s\u001b[0m eta \u001b[36m0:00:00\u001b[0m\n",
            "\u001b[?25hInstalling collected packages: nvidia-nvjitlink-cu12, nvidia-curand-cu12, nvidia-cufft-cu12, nvidia-cuda-runtime-cu12, nvidia-cuda-nvrtc-cu12, nvidia-cuda-cupti-cu12, nvidia-cublas-cu12, lightning-utilities, nvidia-cusparse-cu12, nvidia-cudnn-cu12, nvidia-cusolver-cu12, torchmetrics\n",
            "  Attempting uninstall: nvidia-nvjitlink-cu12\n",
            "    Found existing installation: nvidia-nvjitlink-cu12 12.5.82\n",
            "    Uninstalling nvidia-nvjitlink-cu12-12.5.82:\n",
            "      Successfully uninstalled nvidia-nvjitlink-cu12-12.5.82\n",
            "  Attempting uninstall: nvidia-curand-cu12\n",
            "    Found existing installation: nvidia-curand-cu12 10.3.6.82\n",
            "    Uninstalling nvidia-curand-cu12-10.3.6.82:\n",
            "      Successfully uninstalled nvidia-curand-cu12-10.3.6.82\n",
            "  Attempting uninstall: nvidia-cufft-cu12\n",
            "    Found existing installation: nvidia-cufft-cu12 11.2.3.61\n",
            "    Uninstalling nvidia-cufft-cu12-11.2.3.61:\n",
            "      Successfully uninstalled nvidia-cufft-cu12-11.2.3.61\n",
            "  Attempting uninstall: nvidia-cuda-runtime-cu12\n",
            "    Found existing installation: nvidia-cuda-runtime-cu12 12.5.82\n",
            "    Uninstalling nvidia-cuda-runtime-cu12-12.5.82:\n",
            "      Successfully uninstalled nvidia-cuda-runtime-cu12-12.5.82\n",
            "  Attempting uninstall: nvidia-cuda-nvrtc-cu12\n",
            "    Found existing installation: nvidia-cuda-nvrtc-cu12 12.5.82\n",
            "    Uninstalling nvidia-cuda-nvrtc-cu12-12.5.82:\n",
            "      Successfully uninstalled nvidia-cuda-nvrtc-cu12-12.5.82\n",
            "  Attempting uninstall: nvidia-cuda-cupti-cu12\n",
            "    Found existing installation: nvidia-cuda-cupti-cu12 12.5.82\n",
            "    Uninstalling nvidia-cuda-cupti-cu12-12.5.82:\n",
            "      Successfully uninstalled nvidia-cuda-cupti-cu12-12.5.82\n",
            "  Attempting uninstall: nvidia-cublas-cu12\n",
            "    Found existing installation: nvidia-cublas-cu12 12.5.3.2\n",
            "    Uninstalling nvidia-cublas-cu12-12.5.3.2:\n",
            "      Successfully uninstalled nvidia-cublas-cu12-12.5.3.2\n",
            "  Attempting uninstall: nvidia-cusparse-cu12\n",
            "    Found existing installation: nvidia-cusparse-cu12 12.5.1.3\n",
            "    Uninstalling nvidia-cusparse-cu12-12.5.1.3:\n",
            "      Successfully uninstalled nvidia-cusparse-cu12-12.5.1.3\n",
            "  Attempting uninstall: nvidia-cudnn-cu12\n",
            "    Found existing installation: nvidia-cudnn-cu12 9.3.0.75\n",
            "    Uninstalling nvidia-cudnn-cu12-9.3.0.75:\n",
            "      Successfully uninstalled nvidia-cudnn-cu12-9.3.0.75\n",
            "  Attempting uninstall: nvidia-cusolver-cu12\n",
            "    Found existing installation: nvidia-cusolver-cu12 11.6.3.83\n",
            "    Uninstalling nvidia-cusolver-cu12-11.6.3.83:\n",
            "      Successfully uninstalled nvidia-cusolver-cu12-11.6.3.83\n",
            "Successfully installed lightning-utilities-0.14.3 nvidia-cublas-cu12-12.4.5.8 nvidia-cuda-cupti-cu12-12.4.127 nvidia-cuda-nvrtc-cu12-12.4.127 nvidia-cuda-runtime-cu12-12.4.127 nvidia-cudnn-cu12-9.1.0.70 nvidia-cufft-cu12-11.2.1.3 nvidia-curand-cu12-10.3.5.147 nvidia-cusolver-cu12-11.6.1.9 nvidia-cusparse-cu12-12.3.1.170 nvidia-nvjitlink-cu12-12.4.127 torchmetrics-1.7.3\n"
          ]
        }
      ],
      "source": [
        "!pip install torchmetrics"
      ]
    },
    {
      "cell_type": "code",
      "execution_count": null,
      "metadata": {
        "colab": {
          "base_uri": "https://localhost:8080/"
        },
        "id": "yA9cN-BbaTyh",
        "outputId": "c510152d-008d-409a-ec93-3be97c55bb96"
      },
      "outputs": [
        {
          "output_type": "stream",
          "name": "stdout",
          "text": [
            "Epoch: 1 | Train Loss: 4.6268 | Train Acc: 0.0069 | Val Loss: 4.6122 | Val Acc: 0.0118 | Test Loss: 4.6082 | Test Acc: 0.0085\n",
            "Epoch: 2 | Train Loss: 4.5726 | Train Acc: 0.0147 | Val Loss: 4.5574 | Val Acc: 0.0137 | Test Loss: 4.5775 | Test Acc: 0.0128\n",
            "Epoch: 3 | Train Loss: 4.5074 | Train Acc: 0.0216 | Val Loss: 4.5044 | Val Acc: 0.0235 | Test Loss: 4.5211 | Test Acc: 0.0236\n",
            "Epoch: 4 | Train Loss: 4.4252 | Train Acc: 0.0265 | Val Loss: 4.4400 | Val Acc: 0.0157 | Test Loss: 4.4732 | Test Acc: 0.0157\n",
            "Epoch: 5 | Train Loss: 4.3537 | Train Acc: 0.0363 | Val Loss: 4.3715 | Val Acc: 0.0284 | Test Loss: 4.4107 | Test Acc: 0.0240\n",
            "Epoch: 6 | Train Loss: 4.2420 | Train Acc: 0.0363 | Val Loss: 4.3097 | Val Acc: 0.0353 | Test Loss: 4.3491 | Test Acc: 0.0289\n",
            "Epoch: 7 | Train Loss: 4.1172 | Train Acc: 0.0559 | Val Loss: 4.2879 | Val Acc: 0.0275 | Test Loss: 4.3544 | Test Acc: 0.0294\n",
            "Epoch: 8 | Train Loss: 3.9835 | Train Acc: 0.0549 | Val Loss: 4.2322 | Val Acc: 0.0382 | Test Loss: 4.3066 | Test Acc: 0.0395\n",
            "Epoch: 9 | Train Loss: 3.8539 | Train Acc: 0.0951 | Val Loss: 4.1337 | Val Acc: 0.0618 | Test Loss: 4.2272 | Test Acc: 0.0535\n",
            "Epoch: 10 | Train Loss: 3.7266 | Train Acc: 0.1098 | Val Loss: 4.1467 | Val Acc: 0.0618 | Test Loss: 4.2562 | Test Acc: 0.0601\n",
            "Epoch: 11 | Train Loss: 3.5391 | Train Acc: 0.1333 | Val Loss: 4.1839 | Val Acc: 0.0716 | Test Loss: 4.3389 | Test Acc: 0.0607\n",
            "Epoch: 12 | Train Loss: 3.3955 | Train Acc: 0.1598 | Val Loss: 4.2528 | Val Acc: 0.0676 | Test Loss: 4.4034 | Test Acc: 0.0573\n",
            "Epoch: 13 | Train Loss: 3.2418 | Train Acc: 0.1775 | Val Loss: 4.1289 | Val Acc: 0.0716 | Test Loss: 4.3005 | Test Acc: 0.0665\n",
            "Epoch: 14 | Train Loss: 3.1108 | Train Acc: 0.2059 | Val Loss: 4.3778 | Val Acc: 0.0637 | Test Loss: 4.5851 | Test Acc: 0.0640\n",
            "Epoch: 15 | Train Loss: 2.9738 | Train Acc: 0.2451 | Val Loss: 4.2725 | Val Acc: 0.0843 | Test Loss: 4.5081 | Test Acc: 0.0644\n",
            "Epoch: 16 | Train Loss: 2.7463 | Train Acc: 0.2794 | Val Loss: 4.5519 | Val Acc: 0.0853 | Test Loss: 4.8440 | Test Acc: 0.0704\n",
            "Epoch: 17 | Train Loss: 2.6177 | Train Acc: 0.3020 | Val Loss: 4.6859 | Val Acc: 0.0853 | Test Loss: 4.9673 | Test Acc: 0.0752\n",
            "Epoch: 18 | Train Loss: 2.4207 | Train Acc: 0.3412 | Val Loss: 4.9066 | Val Acc: 0.0892 | Test Loss: 5.2854 | Test Acc: 0.0793\n",
            "Epoch: 19 | Train Loss: 2.2508 | Train Acc: 0.3735 | Val Loss: 5.2298 | Val Acc: 0.0863 | Test Loss: 5.5787 | Test Acc: 0.0711\n",
            "Epoch: 20 | Train Loss: 2.1579 | Train Acc: 0.3971 | Val Loss: 5.0774 | Val Acc: 0.0784 | Test Loss: 5.4018 | Test Acc: 0.0729\n",
            "Epoch: 21 | Train Loss: 1.9387 | Train Acc: 0.4775 | Val Loss: 5.4911 | Val Acc: 0.0843 | Test Loss: 5.8764 | Test Acc: 0.0816\n",
            "Epoch: 22 | Train Loss: 1.8489 | Train Acc: 0.4902 | Val Loss: 5.9250 | Val Acc: 0.0833 | Test Loss: 6.2656 | Test Acc: 0.0743\n",
            "Epoch: 23 | Train Loss: 1.6531 | Train Acc: 0.5392 | Val Loss: 6.3926 | Val Acc: 0.0892 | Test Loss: 6.8032 | Test Acc: 0.0791\n",
            "Epoch: 24 | Train Loss: 1.5849 | Train Acc: 0.5608 | Val Loss: 6.5489 | Val Acc: 0.0824 | Test Loss: 7.0460 | Test Acc: 0.0799\n",
            "Epoch: 25 | Train Loss: 1.4450 | Train Acc: 0.6039 | Val Loss: 6.7998 | Val Acc: 0.0765 | Test Loss: 7.2993 | Test Acc: 0.0755\n",
            "Epoch: 26 | Train Loss: 1.3677 | Train Acc: 0.6039 | Val Loss: 6.7891 | Val Acc: 0.0971 | Test Loss: 7.3620 | Test Acc: 0.0749\n",
            "Epoch: 27 | Train Loss: 1.1837 | Train Acc: 0.6716 | Val Loss: 7.3134 | Val Acc: 0.0794 | Test Loss: 7.8989 | Test Acc: 0.0830\n",
            "Epoch: 28 | Train Loss: 1.0554 | Train Acc: 0.6971 | Val Loss: 8.1344 | Val Acc: 0.0892 | Test Loss: 8.7311 | Test Acc: 0.0763\n",
            "Epoch: 29 | Train Loss: 0.9641 | Train Acc: 0.7441 | Val Loss: 8.7404 | Val Acc: 0.0824 | Test Loss: 9.2923 | Test Acc: 0.0799\n",
            "Epoch: 30 | Train Loss: 0.9262 | Train Acc: 0.7422 | Val Loss: 8.9220 | Val Acc: 0.0882 | Test Loss: 9.6931 | Test Acc: 0.0795\n"
          ]
        }
      ],
      "source": [
        "from torchmetrics.classification import MulticlassAccuracy\n",
        "\n",
        "model = model_0.to(device)\n",
        "epochs = 30\n",
        "\n",
        "epoch_count = []\n",
        "train_loss_values = []\n",
        "train_acc_values = []\n",
        "val_loss_values = []\n",
        "val_acc_values = []\n",
        "test_loss_values = []\n",
        "tes_loss_values = []\n",
        "test_acc_values = []\n",
        "\n",
        "for epoch in range(epochs):\n",
        "  model.train()\n",
        "  train_loss = 0\n",
        "  train_accuracy = MulticlassAccuracy(num_classes=102).to(device)\n",
        "\n",
        "  for (X, y) in train_dataset:\n",
        "    X = X.to(device)\n",
        "    y = y.long().to(device)\n",
        "\n",
        "    y_pred = model(X)\n",
        "    loss = loss_fn(y_pred, y)\n",
        "    train_loss += loss.item()\n",
        "\n",
        "    train_accuracy.update(y_pred, y)\n",
        "\n",
        "    optimizer.zero_grad()\n",
        "    loss.backward()\n",
        "    optimizer.step()\n",
        "\n",
        "  train_loss = train_loss/len(train_dataset)\n",
        "  train_acc = train_accuracy.compute().item()\n",
        "\n",
        "  model.eval()\n",
        "  val_loss = 0\n",
        "  val_accuracy = MulticlassAccuracy(num_classes=102).to(device)\n",
        "  with torch.inference_mode():\n",
        "    for val_X, val_y in val_dataset:\n",
        "      val_X = val_X.to(device)\n",
        "      val_y = val_y.long().to(device)\n",
        "\n",
        "      val_pred = model(val_X)\n",
        "      val_loss_cal = loss_fn(val_pred, val_y)\n",
        "      val_loss += val_loss_cal.item()\n",
        "\n",
        "      val_accuracy.update(val_pred, val_y)\n",
        "\n",
        "  val_loss = val_loss/len(val_dataset)\n",
        "  val_acc = val_accuracy.compute().item()\n",
        "\n",
        "\n",
        "  test_loss = 0\n",
        "  test_accuracy = MulticlassAccuracy(num_classes=102).to(device)\n",
        "\n",
        "  with torch.inference_mode():\n",
        "    for test_X, test_y in test_dataset:\n",
        "      test_X = test_X.to(device)\n",
        "      test_y = test_y.long().to(device)\n",
        "\n",
        "      test_pred = model(test_X)\n",
        "      test_loss_cal = loss_fn(test_pred, test_y)\n",
        "      test_loss += test_loss_cal.item()\n",
        "\n",
        "      test_accuracy.update(test_pred, test_y)\n",
        "\n",
        "  test_loss = test_loss/len(test_dataset)\n",
        "  test_acc = test_accuracy.compute().item()\n",
        "\n",
        "  epoch_count.append(epoch)\n",
        "  train_loss_values.append(train_loss)\n",
        "  train_acc_values.append(train_acc)\n",
        "  val_loss_values.append(val_loss)\n",
        "  val_acc_values.append(val_acc)\n",
        "  test_loss_values.append(test_loss)\n",
        "  test_acc_values.append(test_acc)\n",
        "\n",
        "  print(f\"Epoch: {epoch+1} | Train Loss: {train_loss:.4f} | Train Acc: {train_acc:.4f} | Val Loss: {val_loss:.4f} | Val Acc: {val_acc:.4f} | Test Loss: {test_loss:.4f} | Test Acc: {test_acc:.4f}\")\n",
        "\n",
        "\n"
      ]
    },
    {
      "cell_type": "code",
      "execution_count": null,
      "metadata": {
        "id": "Q4bAAuxol63E",
        "colab": {
          "base_uri": "https://localhost:8080/",
          "height": 472
        },
        "outputId": "3ae0d1ed-bb11-4a1b-bf1f-4a1d3d9ea6de"
      },
      "outputs": [
        {
          "output_type": "display_data",
          "data": {
            "text/plain": [
              "<Figure size 640x480 with 1 Axes>"
            ],
            "image/png": "[encoded data removed]"
          },
          "metadata": {}
        }
      ],
      "source": [
        "import numpy as np\n",
        "import matplotlib.pyplot as plt\n",
        "\n",
        "train_loss_np = torch.tensor(train_loss_values).cpu().numpy()\n",
        "val_loss_np = torch.tensor(val_loss_values).cpu().numpy()\n",
        "test_loss_np = torch.tensor(test_loss_values).cpu().numpy()\n",
        "\n",
        "plt.plot(epoch_count, train_loss_np, label=\"Train loss\")\n",
        "plt.plot(epoch_count, val_loss_np, label=\"Val loss\")\n",
        "plt.plot(epoch_count, test_loss_np, label=\"Test loss\")\n",
        "plt.title(\"Training, Val and Test Loss Curves\")\n",
        "plt.xlabel(\"Epochs\")\n",
        "plt.ylabel(\"Loss\")\n",
        "plt.legend()\n",
        "plt.show()"
      ]
    },
    {
      "cell_type": "code",
      "execution_count": null,
      "metadata": {
        "id": "PAqAwC6dnr6S",
        "colab": {
          "base_uri": "https://localhost:8080/",
          "height": 472
        },
        "outputId": "26a223d4-b86d-43b7-e9de-c57741cf7d20"
      },
      "outputs": [
        {
          "output_type": "display_data",
          "data": {
            "text/plain": [
              "<Figure size 640x480 with 1 Axes>"
            ],
            "image/png": "[encoded data removed]"
          },
          "metadata": {}
        }
      ],
      "source": [
        "import numpy as np\n",
        "import matplotlib.pyplot as plt\n",
        "\n",
        "train_acc_np = torch.tensor(train_acc_values).cpu().numpy()\n",
        "val_acc_np = torch.tensor(val_acc_values).cpu().numpy()\n",
        "test_acc_np = torch.tensor(test_acc_values).cpu().numpy()\n",
        "\n",
        "plt.plot(epoch_count, train_acc_np, label=\"Train acc\")\n",
        "plt.plot(epoch_count, val_acc_np, label=\"Val acc\")\n",
        "plt.plot(epoch_count, test_acc_np, label=\"Test acc\")\n",
        "plt.title(\"Training, Val and Test acc Curves\")\n",
        "plt.xlabel(\"Epochs\")\n",
        "plt.ylabel(\"Loss\")\n",
        "plt.legend()\n",
        "plt.show()"
      ]
    },
    {
      "cell_type": "code",
      "execution_count": null,
      "metadata": {
        "id": "8-Yr_yYRyzYJ"
      },
      "outputs": [],
      "source": []
    }
  ],
  "metadata": {
    "accelerator": "GPU",
    "colab": {
      "gpuType": "T4",
      "provenance": []
    },
    "kernelspec": {
      "display_name": "Python 3",
      "name": "python3"
    },
    "language_info": {
      "name": "python"
    }
  },
  "nbformat": 4,
  "nbformat_minor": 0
}