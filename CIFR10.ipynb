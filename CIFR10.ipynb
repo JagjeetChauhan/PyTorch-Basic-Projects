{
  "cells": [
    {
      "cell_type": "code",
      "execution_count": null,
      "metadata": {
        "id": "DDnMdI6IZSnl"
      },
      "outputs": [],
      "source": [
        "import torch\n",
        "from torch.utils.data import DataLoader\n",
        "import torchvision\n",
        "from torchvision import datasets\n",
        "from torchvision.transforms import ToTensor\n",
        "import matplotlib.pyplot as plt"
      ]
    },
    {
      "cell_type": "code",
      "execution_count": null,
      "metadata": {
        "colab": {
          "base_uri": "https://localhost:8080/"
        },
        "id": "pUDk8ndgaIZD",
        "outputId": "79b62c68-46c4-4c05-d584-af7ec919f494"
      },
      "outputs": [
        {
          "output_type": "stream",
          "name": "stderr",
          "text": [
            "100%|██████████| 170M/170M [00:01<00:00, 93.2MB/s]\n"
          ]
        }
      ],
      "source": [
        "train_data = datasets.CIFAR10(\n",
        "    root=\"data\",\n",
        "    train=True,\n",
        "    download=True,\n",
        "    transform=torchvision.transforms.ToTensor(),\n",
        "    target_transform=None\n",
        ")\n",
        "\n",
        "test_data = datasets.CIFAR10(\n",
        "    root=\"data\",\n",
        "    train=False,\n",
        "    download=True,\n",
        "    transform=torchvision.transforms.ToTensor(),\n",
        "    target_transform=None\n",
        ")"
      ]
    },
    {
      "cell_type": "code",
      "execution_count": null,
      "metadata": {
        "colab": {
          "base_uri": "https://localhost:8080/"
        },
        "id": "Ac1ROYbFbPjk",
        "outputId": "2a27987e-0035-4d36-f22a-add63255c448"
      },
      "outputs": [
        {
          "output_type": "execute_result",
          "data": {
            "text/plain": [
              "50000"
            ]
          },
          "metadata": {},
          "execution_count": 3
        }
      ],
      "source": [
        "len(train_data)"
      ]
    },
    {
      "cell_type": "code",
      "execution_count": null,
      "metadata": {
        "id": "NcJq82bDbfC0"
      },
      "outputs": [],
      "source": [
        "image, label = train_data[0]"
      ]
    },
    {
      "cell_type": "code",
      "execution_count": null,
      "metadata": {
        "id": "RVwpJXjXcAht",
        "colab": {
          "base_uri": "https://localhost:8080/"
        },
        "outputId": "6483e9f9-17e9-421a-f356-afb9312c4c8c"
      },
      "outputs": [
        {
          "output_type": "execute_result",
          "data": {
            "text/plain": [
              "tensor([[[0.2314, 0.1686, 0.1961,  ..., 0.6196, 0.5961, 0.5804],\n",
              "         [0.0627, 0.0000, 0.0706,  ..., 0.4824, 0.4667, 0.4784],\n",
              "         [0.0980, 0.0627, 0.1922,  ..., 0.4627, 0.4706, 0.4275],\n",
              "         ...,\n",
              "         [0.8157, 0.7882, 0.7765,  ..., 0.6275, 0.2196, 0.2078],\n",
              "         [0.7059, 0.6784, 0.7294,  ..., 0.7216, 0.3804, 0.3255],\n",
              "         [0.6941, 0.6588, 0.7020,  ..., 0.8471, 0.5922, 0.4824]],\n",
              "\n",
              "        [[0.2431, 0.1804, 0.1882,  ..., 0.5176, 0.4902, 0.4863],\n",
              "         [0.0784, 0.0000, 0.0314,  ..., 0.3451, 0.3255, 0.3412],\n",
              "         [0.0941, 0.0275, 0.1059,  ..., 0.3294, 0.3294, 0.2863],\n",
              "         ...,\n",
              "         [0.6667, 0.6000, 0.6314,  ..., 0.5216, 0.1216, 0.1333],\n",
              "         [0.5451, 0.4824, 0.5647,  ..., 0.5804, 0.2431, 0.2078],\n",
              "         [0.5647, 0.5059, 0.5569,  ..., 0.7216, 0.4627, 0.3608]],\n",
              "\n",
              "        [[0.2471, 0.1765, 0.1686,  ..., 0.4235, 0.4000, 0.4039],\n",
              "         [0.0784, 0.0000, 0.0000,  ..., 0.2157, 0.1961, 0.2235],\n",
              "         [0.0824, 0.0000, 0.0314,  ..., 0.1961, 0.1961, 0.1647],\n",
              "         ...,\n",
              "         [0.3765, 0.1333, 0.1020,  ..., 0.2745, 0.0275, 0.0784],\n",
              "         [0.3765, 0.1647, 0.1176,  ..., 0.3686, 0.1333, 0.1333],\n",
              "         [0.4549, 0.3686, 0.3412,  ..., 0.5490, 0.3294, 0.2824]]])"
            ]
          },
          "metadata": {},
          "execution_count": 5
        }
      ],
      "source": [
        "image"
      ]
    },
    {
      "cell_type": "code",
      "source": [
        "label"
      ],
      "metadata": {
        "colab": {
          "base_uri": "https://localhost:8080/"
        },
        "id": "XbOlGfCnmDu4",
        "outputId": "54ba9563-e3ee-425d-f140-28890f95a041"
      },
      "execution_count": null,
      "outputs": [
        {
          "output_type": "execute_result",
          "data": {
            "text/plain": [
              "6"
            ]
          },
          "metadata": {},
          "execution_count": 6
        }
      ]
    },
    {
      "cell_type": "code",
      "source": [
        "classes = train_data.class_to_idx"
      ],
      "metadata": {
        "id": "doh34SAAmLXY"
      },
      "execution_count": null,
      "outputs": []
    },
    {
      "cell_type": "code",
      "source": [
        "classes"
      ],
      "metadata": {
        "colab": {
          "base_uri": "https://localhost:8080/"
        },
        "id": "FQK-ocH0mqJh",
        "outputId": "6786e4bc-dbc9-4cc0-fdf0-0f5c01a695f0"
      },
      "execution_count": null,
      "outputs": [
        {
          "output_type": "execute_result",
          "data": {
            "text/plain": [
              "{'airplane': 0,\n",
              " 'automobile': 1,\n",
              " 'bird': 2,\n",
              " 'cat': 3,\n",
              " 'deer': 4,\n",
              " 'dog': 5,\n",
              " 'frog': 6,\n",
              " 'horse': 7,\n",
              " 'ship': 8,\n",
              " 'truck': 9}"
            ]
          },
          "metadata": {},
          "execution_count": 8
        }
      ]
    },
    {
      "cell_type": "code",
      "source": [
        "from torch.utils.data import DataLoader\n",
        "\n",
        "train_dataloader = DataLoader(dataset=train_data, batch_size=32, shuffle=True)\n",
        "test_dataloader = DataLoader(dataset=test_data, batch_size=32, shuffle=False)"
      ],
      "metadata": {
        "id": "oDnFAdE_m3hl"
      },
      "execution_count": null,
      "outputs": []
    },
    {
      "cell_type": "code",
      "source": [
        "len(train_dataloader), len(test_dataloader)"
      ],
      "metadata": {
        "colab": {
          "base_uri": "https://localhost:8080/"
        },
        "id": "hZS9KhAqo4dK",
        "outputId": "40a0d9d5-720e-49ca-990b-aa919ff124b8"
      },
      "execution_count": null,
      "outputs": [
        {
          "output_type": "execute_result",
          "data": {
            "text/plain": [
              "(1563, 313)"
            ]
          },
          "metadata": {},
          "execution_count": 10
        }
      ]
    },
    {
      "cell_type": "code",
      "source": [
        "import torch.nn as nn\n",
        "\n",
        "class CIFAR10_model(nn.Module):\n",
        "  def __init__(self, input_shape: int, hidden_units: int, output_shape: int):\n",
        "    super().__init__()\n",
        "    self.conv_block_1 = nn.Sequential(\n",
        "        nn.Conv2d(in_channels=input_shape,\n",
        "                  out_channels=hidden_units,\n",
        "                  kernel_size=3,\n",
        "                  padding=1),\n",
        "        nn.ReLU(),\n",
        "        nn.MaxPool2d(kernel_size=2,\n",
        "                     stride=2)\n",
        "    )\n",
        "    self.conv_block_2 = nn.Sequential(\n",
        "        nn.Conv2d(\n",
        "            in_channels=hidden_units,\n",
        "            out_channels=hidden_units,\n",
        "            kernel_size=3,\n",
        "            padding=1\n",
        "        ),\n",
        "        nn.ReLU(),\n",
        "        nn.MaxPool2d(kernel_size=2,\n",
        "                     stride=2)\n",
        "    )\n",
        "    self.conv_block_3 = nn.Sequential(\n",
        "        nn.Conv2d(in_channels=hidden_units,\n",
        "                  out_channels=hidden_units,\n",
        "                  kernel_size=3,\n",
        "                  padding=1\n",
        "        ),\n",
        "        nn.ReLU(),\n",
        "        nn.MaxPool2d(kernel_size=2)\n",
        "    )\n",
        "\n",
        "    self.classifer = nn.Sequential(\n",
        "        nn.Flatten(),\n",
        "        nn.Linear(in_features=hidden_units*4*4,\n",
        "                  out_features=output_shape)\n",
        "    )\n",
        "\n",
        "  def forward(self, x: torch.Tensor):\n",
        "    x = self.conv_block_1(x)\n",
        "    # print(x.shape)\n",
        "    x =self.conv_block_2(x)\n",
        "    # print(x.shape)\n",
        "    x = self.conv_block_3(x)\n",
        "    # print(x.shape)\n",
        "    x = self.classifer(x)\n",
        "    # print(x.shape)\n",
        "\n",
        "    return x\n"
      ],
      "metadata": {
        "id": "7Xh0Gk7JpRSW"
      },
      "execution_count": null,
      "outputs": []
    },
    {
      "cell_type": "code",
      "source": [
        "model_0 = CIFAR10_model(3, 16, 10)\n",
        "model_0"
      ],
      "metadata": {
        "colab": {
          "base_uri": "https://localhost:8080/"
        },
        "id": "eOSsfzIwtvou",
        "outputId": "7e695903-0a62-4324-b2e1-fe8e7b2d0afb"
      },
      "execution_count": null,
      "outputs": [
        {
          "output_type": "execute_result",
          "data": {
            "text/plain": [
              "CIFAR10_model(\n",
              "  (conv_block_1): Sequential(\n",
              "    (0): Conv2d(3, 16, kernel_size=(3, 3), stride=(1, 1), padding=(1, 1))\n",
              "    (1): ReLU()\n",
              "    (2): MaxPool2d(kernel_size=2, stride=2, padding=0, dilation=1, ceil_mode=False)\n",
              "  )\n",
              "  (conv_block_2): Sequential(\n",
              "    (0): Conv2d(16, 16, kernel_size=(3, 3), stride=(1, 1), padding=(1, 1))\n",
              "    (1): ReLU()\n",
              "    (2): MaxPool2d(kernel_size=2, stride=2, padding=0, dilation=1, ceil_mode=False)\n",
              "  )\n",
              "  (conv_block_3): Sequential(\n",
              "    (0): Conv2d(16, 16, kernel_size=(3, 3), stride=(1, 1), padding=(1, 1))\n",
              "    (1): ReLU()\n",
              "    (2): MaxPool2d(kernel_size=2, stride=2, padding=0, dilation=1, ceil_mode=False)\n",
              "  )\n",
              "  (classifer): Sequential(\n",
              "    (0): Flatten(start_dim=1, end_dim=-1)\n",
              "    (1): Linear(in_features=256, out_features=10, bias=True)\n",
              "  )\n",
              ")"
            ]
          },
          "metadata": {},
          "execution_count": 12
        }
      ]
    },
    {
      "cell_type": "code",
      "source": [
        "!pip install torchinfo\n",
        "import torchinfo\n",
        "\n",
        "from torchinfo import summary\n",
        "summary(model_0, input_size=[1,3,32, 32])"
      ],
      "metadata": {
        "colab": {
          "base_uri": "https://localhost:8080/"
        },
        "id": "DM-JIOxBu597",
        "outputId": "0150ad86-591a-4e94-c30a-a82cf2d1d893"
      },
      "execution_count": null,
      "outputs": [
        {
          "output_type": "stream",
          "name": "stdout",
          "text": [
            "Collecting torchinfo\n",
            "  Downloading torchinfo-1.8.0-py3-none-any.whl.metadata (21 kB)\n",
            "Downloading torchinfo-1.8.0-py3-none-any.whl (23 kB)\n",
            "Installing collected packages: torchinfo\n",
            "Successfully installed torchinfo-1.8.0\n"
          ]
        },
        {
          "output_type": "execute_result",
          "data": {
            "text/plain": [
              "==========================================================================================\n",
              "Layer (type:depth-idx)                   Output Shape              Param #\n",
              "==========================================================================================\n",
              "CIFAR10_model                            [1, 10]                   --\n",
              "├─Sequential: 1-1                        [1, 16, 16, 16]           --\n",
              "│    └─Conv2d: 2-1                       [1, 16, 32, 32]           448\n",
              "│    └─ReLU: 2-2                         [1, 16, 32, 32]           --\n",
              "│    └─MaxPool2d: 2-3                    [1, 16, 16, 16]           --\n",
              "├─Sequential: 1-2                        [1, 16, 8, 8]             --\n",
              "│    └─Conv2d: 2-4                       [1, 16, 16, 16]           2,320\n",
              "│    └─ReLU: 2-5                         [1, 16, 16, 16]           --\n",
              "│    └─MaxPool2d: 2-6                    [1, 16, 8, 8]             --\n",
              "├─Sequential: 1-3                        [1, 16, 4, 4]             --\n",
              "│    └─Conv2d: 2-7                       [1, 16, 8, 8]             2,320\n",
              "│    └─ReLU: 2-8                         [1, 16, 8, 8]             --\n",
              "│    └─MaxPool2d: 2-9                    [1, 16, 4, 4]             --\n",
              "├─Sequential: 1-4                        [1, 10]                   --\n",
              "│    └─Flatten: 2-10                     [1, 256]                  --\n",
              "│    └─Linear: 2-11                      [1, 10]                   2,570\n",
              "==========================================================================================\n",
              "Total params: 7,658\n",
              "Trainable params: 7,658\n",
              "Non-trainable params: 0\n",
              "Total mult-adds (Units.MEGABYTES): 1.20\n",
              "==========================================================================================\n",
              "Input size (MB): 0.01\n",
              "Forward/backward pass size (MB): 0.17\n",
              "Params size (MB): 0.03\n",
              "Estimated Total Size (MB): 0.22\n",
              "=========================================================================================="
            ]
          },
          "metadata": {},
          "execution_count": 13
        }
      ]
    },
    {
      "cell_type": "code",
      "source": [
        "image.shape"
      ],
      "metadata": {
        "colab": {
          "base_uri": "https://localhost:8080/"
        },
        "id": "Wwet-KxZt1kX",
        "outputId": "9c5fd287-c8ff-4b2e-fba9-6d969e5d54fb"
      },
      "execution_count": null,
      "outputs": [
        {
          "output_type": "execute_result",
          "data": {
            "text/plain": [
              "torch.Size([3, 32, 32])"
            ]
          },
          "metadata": {},
          "execution_count": 14
        }
      ]
    },
    {
      "cell_type": "code",
      "source": [
        "import torch.optim as optim\n",
        "loss_fn = nn.CrossEntropyLoss()\n",
        "optimizer = torch.optim.SGD(params=model_0.parameters(), lr=0.001)"
      ],
      "metadata": {
        "id": "fc_hmcCIw0VY"
      },
      "execution_count": null,
      "outputs": []
    },
    {
      "cell_type": "code",
      "source": [
        "device = torch.device(\"cuda\" if torch.cuda.is_available() else \"cpu\")\n",
        "device"
      ],
      "metadata": {
        "colab": {
          "base_uri": "https://localhost:8080/"
        },
        "id": "n5Fc4AoXxQYI",
        "outputId": "17df3906-ac83-42a8-ee8b-71a8ef401d37"
      },
      "execution_count": null,
      "outputs": [
        {
          "output_type": "execute_result",
          "data": {
            "text/plain": [
              "device(type='cpu')"
            ]
          },
          "metadata": {},
          "execution_count": 16
        }
      ]
    },
    {
      "cell_type": "code",
      "source": [
        "model = model_0.to(device)\n",
        "epochs = 30\n",
        "\n",
        "epoch_count = []\n",
        "train_loss_values = []\n",
        "test_loss_values = []\n",
        "\n",
        "for epoch in range(epochs):\n",
        "    model.train()\n",
        "    train_loss = 0\n",
        "\n",
        "    for batch, (images, labels) in enumerate(train_dataloader):\n",
        "        images = images.to(device)\n",
        "        labels = labels.long().to(device)\n",
        "\n",
        "        y_pred = model(images)\n",
        "        loss = loss_fn(y_pred, labels)\n",
        "        train_loss += loss.item()\n",
        "\n",
        "        optimizer.zero_grad()\n",
        "        loss.backward()\n",
        "        optimizer.step()\n",
        "\n",
        "    train_loss = train_loss / len(train_dataloader)\n",
        "\n",
        "    model.eval()\n",
        "    test_loss = 0\n",
        "\n",
        "    with torch.inference_mode():\n",
        "        for test_images, test_labels in test_dataloader:\n",
        "            test_images = test_images.to(device)\n",
        "            test_labels = test_labels.long().to(device)\n",
        "\n",
        "            test_pred = model(test_images)\n",
        "            loss = loss_fn(test_pred, test_labels)\n",
        "            test_loss += loss.item()\n",
        "\n",
        "    test_loss = test_loss / len(test_dataloader)\n",
        "\n",
        "    epoch_count.append(epoch)\n",
        "    train_loss_values.append(train_loss)\n",
        "    test_loss_values.append(test_loss)\n",
        "\n",
        "    print(f\"Epoch: {epoch} | Train loss: {train_loss:.4f} | Test loss: {test_loss:.4f}\")"
      ],
      "metadata": {
        "colab": {
          "base_uri": "https://localhost:8080/"
        },
        "id": "can4Hsg5yFx7",
        "outputId": "b5f3500e-2785-4f0f-e322-69f56ed82a3d"
      },
      "execution_count": null,
      "outputs": [
        {
          "output_type": "stream",
          "name": "stdout",
          "text": [
            "Epoch: 0 | Train loss: 2.3032 | Test loss: 2.3020\n",
            "Epoch: 1 | Train loss: 2.3012 | Test loss: 2.3001\n",
            "Epoch: 2 | Train loss: 2.2990 | Test loss: 2.2975\n",
            "Epoch: 3 | Train loss: 2.2957 | Test loss: 2.2933\n",
            "Epoch: 4 | Train loss: 2.2897 | Test loss: 2.2847\n",
            "Epoch: 5 | Train loss: 2.2766 | Test loss: 2.2650\n",
            "Epoch: 6 | Train loss: 2.2457 | Test loss: 2.2189\n",
            "Epoch: 7 | Train loss: 2.1794 | Test loss: 2.1329\n",
            "Epoch: 8 | Train loss: 2.0870 | Test loss: 2.0355\n",
            "Epoch: 9 | Train loss: 2.0189 | Test loss: 1.9878\n",
            "Epoch: 10 | Train loss: 1.9803 | Test loss: 1.9522\n",
            "Epoch: 11 | Train loss: 1.9455 | Test loss: 1.9183\n",
            "Epoch: 12 | Train loss: 1.9070 | Test loss: 1.8773\n",
            "Epoch: 13 | Train loss: 1.8635 | Test loss: 1.8303\n",
            "Epoch: 14 | Train loss: 1.8173 | Test loss: 1.7880\n",
            "Epoch: 15 | Train loss: 1.7740 | Test loss: 1.7477\n",
            "Epoch: 16 | Train loss: 1.7344 | Test loss: 1.7106\n",
            "Epoch: 17 | Train loss: 1.6998 | Test loss: 1.6789\n",
            "Epoch: 18 | Train loss: 1.6712 | Test loss: 1.6544\n",
            "Epoch: 19 | Train loss: 1.6474 | Test loss: 1.6329\n",
            "Epoch: 20 | Train loss: 1.6271 | Test loss: 1.6192\n",
            "Epoch: 21 | Train loss: 1.6096 | Test loss: 1.5905\n",
            "Epoch: 22 | Train loss: 1.5937 | Test loss: 1.5753\n",
            "Epoch: 23 | Train loss: 1.5782 | Test loss: 1.5642\n",
            "Epoch: 24 | Train loss: 1.5641 | Test loss: 1.5598\n",
            "Epoch: 25 | Train loss: 1.5509 | Test loss: 1.5446\n",
            "Epoch: 26 | Train loss: 1.5385 | Test loss: 1.5354\n",
            "Epoch: 27 | Train loss: 1.5277 | Test loss: 1.5272\n",
            "Epoch: 28 | Train loss: 1.5177 | Test loss: 1.5291\n",
            "Epoch: 29 | Train loss: 1.5078 | Test loss: 1.5002\n"
          ]
        }
      ]
    },
    {
      "cell_type": "code",
      "source": [
        "import numpy as np\n",
        "import matplotlib.pyplot as plt\n",
        "\n",
        "train_loss_np = torch.tensor(train_loss_values).cpu().numpy()\n",
        "test_loss_np = torch.tensor(test_loss_values).cpu().numpy()\n",
        "\n",
        "plt.plot(epoch_count, train_loss_np, label=\"Train loss\")\n",
        "plt.plot(epoch_count, test_loss_np, label=\"Test loss\")\n",
        "plt.title(\"Training and Test Loss Curves\")\n",
        "plt.xlabel(\"Epochs\")\n",
        "plt.ylabel(\"Loss\")\n",
        "plt.legend()\n",
        "plt.show()"
      ],
      "metadata": {
        "colab": {
          "base_uri": "https://localhost:8080/",
          "height": 472
        },
        "id": "nei2_w3S3MJc",
        "outputId": "777a5945-6203-4c1d-8600-b4efd1b533fa"
      },
      "execution_count": null,
      "outputs": [
        {
          "output_type": "display_data",
          "data": {
            "text/plain": [
              "<Figure size 640x480 with 1 Axes>"
            ],
            "image/png": "[encoded data removed]"
          },
          "metadata": {}
        }
      ]
    },
    {
      "cell_type": "code",
      "source": [
        "from pathlib import Path\n",
        "\n",
        "MODEL_PATH = Path(\"models\")\n",
        "MODEL_PATH.mkdir(parents=True,\n",
        "                 exist_ok = True)\n",
        "\n",
        "MODEL_NAME = \"model_0.pth\"\n",
        "MODEL_SAVE_PATH = MODEL_PATH/MODEL_NAME\n",
        "\n",
        "print(f\"Saving model to: {MODEL_SAVE_PATH}\")\n",
        "torch.save(obj=model_0.state_dict(), f=MODEL_SAVE_PATH)"
      ],
      "metadata": {
        "id": "9x0iK2UA5qn5",
        "colab": {
          "base_uri": "https://localhost:8080/"
        },
        "outputId": "7e748011-992c-45f9-a129-356f3cda9ee8"
      },
      "execution_count": null,
      "outputs": [
        {
          "output_type": "stream",
          "name": "stdout",
          "text": [
            "Saving model to: models/model_0.pth\n"
          ]
        }
      ]
    },
    {
      "cell_type": "code",
      "source": [
        "loaded_model = CIFAR10_model(input_shape=3, hidden_units=16, output_shape=10)\n",
        "\n",
        "loaded_model.load_state_dict(torch.load(f=MODEL_SAVE_PATH))\n",
        "\n",
        "loaded_model = loaded_model.to(device)"
      ],
      "metadata": {
        "id": "5cGQ4rxZai2Z"
      },
      "execution_count": null,
      "outputs": []
    },
    {
      "cell_type": "code",
      "source": [
        "from torchvision import transforms\n",
        "\n",
        "data_transform = transforms.Compose([\n",
        "    transforms.Resize(size=(32, 32)),\n",
        "    transforms.ToTensor()\n",
        "])"
      ],
      "metadata": {
        "id": "5VIO900H7iFS"
      },
      "execution_count": null,
      "outputs": []
    },
    {
      "cell_type": "code",
      "source": [
        "\n",
        "from PIL import Image\n",
        "\n",
        "img = Image.open(\"/content/test2.png\")\n",
        "\n",
        "if img.mode == \"RGBA\":\n",
        "  img = img.convert(\"RGB\")"
      ],
      "metadata": {
        "id": "RjS4qN928Zi-"
      },
      "execution_count": null,
      "outputs": []
    },
    {
      "cell_type": "code",
      "source": [
        "new_img_tensor = data_transform(img).unsqueeze(0).to(device)"
      ],
      "metadata": {
        "id": "L9W4ReEq_zyf"
      },
      "execution_count": null,
      "outputs": []
    },
    {
      "cell_type": "code",
      "source": [
        "new_img_tensor.shape"
      ],
      "metadata": {
        "colab": {
          "base_uri": "https://localhost:8080/"
        },
        "id": "HPV7qUPY_1gE",
        "outputId": "c7a0d0d7-bf48-4252-9b8b-50fc544740ba"
      },
      "execution_count": null,
      "outputs": [
        {
          "output_type": "execute_result",
          "data": {
            "text/plain": [
              "torch.Size([1, 3, 32, 32])"
            ]
          },
          "metadata": {},
          "execution_count": 51
        }
      ]
    },
    {
      "cell_type": "code",
      "source": [
        "with torch.inference_mode():\n",
        "  output = loaded_model(new_img_tensor)\n",
        "  pred = torch.argmax(output, dim=1).item()\n",
        "\n",
        "class_names = [\"airplane\", \"automobile\", \"bird\", \"cat\", \"deer\",\n",
        "               \"dog\", \"frog\", \"horse\", \"ship\", \"truck\"]\n",
        "\n",
        "print(f\"predicted class: {pred} -> {class_names[pred]}\")\n"
      ],
      "metadata": {
        "colab": {
          "base_uri": "https://localhost:8080/"
        },
        "id": "m4oJbls9AL2L",
        "outputId": "6a058f12-8531-4f3d-f45e-3ec11667cae2"
      },
      "execution_count": null,
      "outputs": [
        {
          "output_type": "stream",
          "name": "stdout",
          "text": [
            "predicted class: 0 -> airplane\n"
          ]
        }
      ]
    },
    {
      "cell_type": "code",
      "source": [],
      "metadata": {
        "id": "G8lZ93ObAliJ"
      },
      "execution_count": null,
      "outputs": []
    }
  ],
  "metadata": {
    "colab": {
      "provenance": []
    },
    "kernelspec": {
      "display_name": "Python 3",
      "name": "python3"
    },
    "language_info": {
      "name": "python"
    }
  },
  "nbformat": 4,
  "nbformat_minor": 0
}